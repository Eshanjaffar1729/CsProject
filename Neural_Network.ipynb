{
 "cells": [
  {
   "cell_type": "code",
   "execution_count": 53,
   "id": "a87e86f2",
   "metadata": {},
   "outputs": [],
   "source": [
    "import numpy as np\n",
    "from scipy import optimize\n",
    "import matplotlib.pyplot as plt"
   ]
  },
  {
   "cell_type": "code",
   "execution_count": 54,
   "id": "aa7e9113",
   "metadata": {},
   "outputs": [],
   "source": [
    "X = np.array(([3,5],[5,1],[10,2]),dtype=float)\n",
    "Y = np.array(([75],[82],[93]),dtype = float)\n",
    "X = X/np.max(X,axis=0)\n",
    "Y = Y/100"
   ]
  },
  {
   "cell_type": "code",
   "execution_count": 75,
   "id": "5216f15f",
   "metadata": {},
   "outputs": [],
   "source": [
    "class Neural_Network(object):\n",
    "    def __init__(self):\n",
    "        self.inputLayerSize  = 2\n",
    "        self.hiddenLayerSize = 3\n",
    "        self.outputLayerSize = 1\n",
    "        self.w1              = np.random.randn(self.inputLayerSize,self.hiddenLayerSize)\n",
    "        self.w2              = np.random.randn(self.hiddenLayerSize,self.outputLayerSize)\n",
    "        \n",
    "    def forward(self,X):\n",
    "        self.z2   = np.dot(X,self.w1)\n",
    "        self.a2   = self.sigmoid(self.z2)\n",
    "        self.z3   = np.dot(self.a2,self.w2)\n",
    "        yHat      = self.sigmoid(self.z3)\n",
    "        return yHat\n",
    "    \n",
    "    \n",
    "    \n",
    "    \n",
    "    def cost(self,x,y):\n",
    "        return (0.5)*sum((y-self.forward(x))**2)\n",
    "    \n",
    "    \n",
    "    \n",
    "    \n",
    "    def costPrime(self,x,y):\n",
    "        self.yHat = self.forward(x)\n",
    "        \n",
    "        self.delta3 = np.multiply(-(y-self.yHat),self.sigmoidPrime(self.z3))\n",
    "        djdw2     = np.dot(self.a2.T,self.delta3)\n",
    "        \n",
    "        self.delta2 = np.multiply(self.delta3,self.w2.T)*self.sigmoidPrime(self.z3)\n",
    "        djdw1  = np.dot(x.T,self.delta2)\n",
    "        \n",
    "        return djdw1,djdw2\n",
    "        \n",
    "        \n",
    "        \n",
    "        \n",
    "    def sigmoid(self,z):\n",
    "        return 1/(1+np.exp(-z))\n",
    "    \n",
    "    \n",
    "    \n",
    "    \n",
    "    def sigmoidPrime(self,z):\n",
    "        return (np.exp(-z))/((1+np.exp(-z))**2)\n",
    "    \n",
    "    \n",
    "    \n",
    "    def getParams(self):\n",
    "        #Get W1 and W2 unrolled into vector:\n",
    "        params = np.concatenate((self.w1.ravel(), self.w2.ravel()))\n",
    "        return params\n",
    "    \n",
    "    def setParams(self, params):\n",
    "        #Set W1 and W2 using single paramater vector.\n",
    "        w1_start = 0\n",
    "        w1_end = self.hiddenLayerSize * self.inputLayerSize\n",
    "        self.w1 = np.reshape(params[w1_start:w1_end], (self.inputLayerSize , self.hiddenLayerSize))\n",
    "        w2_end = w1_end + self.hiddenLayerSize*self.outputLayerSize\n",
    "        self.Ww = np.reshape(params[w1_end:w2_end], (self.hiddenLayerSize, self.outputLayerSize))\n",
    "        \n",
    "    def computeGradients(self, X, y):\n",
    "        dJdw1, dJdw2 = self.costPrime(X, y)\n",
    "        return np.concatenate((dJdw1.ravel(), dJdw2.ravel()))"
   ]
  },
  {
   "cell_type": "code",
   "execution_count": 82,
   "id": "802ba940",
   "metadata": {},
   "outputs": [],
   "source": [
    "\n",
    "class trainer(object):\n",
    "    def __init__(self, N):\n",
    "        #Make Local reference to network:\n",
    "        self.N = N\n",
    "        \n",
    "    def callbackF(self, params):\n",
    "        self.N.setParams(params)\n",
    "        self.J.append(self.N.cost(self.X, self.y))   \n",
    "        \n",
    "    def costFunctionWrapper(self, params, X, y):\n",
    "        self.N.setParams(params)\n",
    "        cost = self.N.cost(X, y)\n",
    "        grad = self.N.computeGradients(X,y)\n",
    "        \n",
    "        return cost, grad\n",
    "        \n",
    "    def train(self, X, y):\n",
    "        #Make an internal variable for the callback function:\n",
    "        self.X = X\n",
    "        self.y = y\n",
    "\n",
    "        #Make empty list to store costs:\n",
    "        self.J = []\n",
    "        \n",
    "        params0 = self.N.getParams()\n",
    "\n",
    "        options = {'maxiter': 200, 'disp' : True}\n",
    "        _res = optimize.minimize(self.costFunctionWrapper, params0, jac=True, method='BFGS', \\\n",
    "                                 args=(X, y), options=options, callback=self.callbackF)\n",
    "\n",
    "        self.N.setParams(_res.x)\n",
    "        self.optimizationResults = _res"
   ]
  },
  {
   "cell_type": "code",
   "execution_count": 83,
   "id": "a2456567",
   "metadata": {},
   "outputs": [],
   "source": [
    "NN = Neural_Network()\n",
    "T  = trainer(NN)"
   ]
  },
  {
   "cell_type": "code",
   "execution_count": 84,
   "id": "e11f6659",
   "metadata": {},
   "outputs": [
    {
     "name": "stdout",
     "output_type": "stream",
     "text": [
      "Warning: Desired error not necessarily achieved due to precision loss.\n",
      "         Current function value: 0.174900\n",
      "         Iterations: 3\n",
      "         Function evaluations: 124\n",
      "         Gradient evaluations: 112\n"
     ]
    }
   ],
   "source": [
    "T.train(X,Y)"
   ]
  },
  {
   "cell_type": "code",
   "execution_count": 86,
   "id": "1ff4e31f",
   "metadata": {},
   "outputs": [
    {
     "data": {
      "text/plain": [
       "array([[0.5],\n",
       "       [0.5],\n",
       "       [0.5]])"
      ]
     },
     "execution_count": 86,
     "metadata": {},
     "output_type": "execute_result"
    }
   ],
   "source": [
    "NN.forward(X)"
   ]
  },
  {
   "cell_type": "code",
   "execution_count": 87,
   "id": "18cae4cf",
   "metadata": {},
   "outputs": [
    {
     "data": {
      "text/plain": [
       "array([[0.75],\n",
       "       [0.82],\n",
       "       [0.93]])"
      ]
     },
     "execution_count": 87,
     "metadata": {},
     "output_type": "execute_result"
    }
   ],
   "source": [
    "Y"
   ]
  },
  {
   "cell_type": "code",
   "execution_count": null,
   "id": "44dd25b3",
   "metadata": {},
   "outputs": [],
   "source": []
  }
 ],
 "metadata": {
  "kernelspec": {
   "display_name": "Python 3 (ipykernel)",
   "language": "python",
   "name": "python3"
  },
  "language_info": {
   "codemirror_mode": {
    "name": "ipython",
    "version": 3
   },
   "file_extension": ".py",
   "mimetype": "text/x-python",
   "name": "python",
   "nbconvert_exporter": "python",
   "pygments_lexer": "ipython3",
   "version": "3.9.12"
  }
 },
 "nbformat": 4,
 "nbformat_minor": 5
}

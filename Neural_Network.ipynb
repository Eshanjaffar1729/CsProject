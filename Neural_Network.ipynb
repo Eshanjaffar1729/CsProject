{
 "cells": [
  {
   "cell_type": "code",
   "execution_count": 5,
   "id": "a87e86f2",
   "metadata": {},
   "outputs": [],
   "source": [
    "import numpy as np\n",
    "import matplotlib.pyplot as plt"
   ]
  },
  {
   "cell_type": "code",
   "execution_count": 6,
   "id": "aa7e9113",
   "metadata": {},
   "outputs": [],
   "source": [
    "X = np.array(([3,5],[5,1],[10,2]),dtype=float)\n",
    "Y = np.array(([75],[82],[93]),dtype = float)\n",
    "X = X/np.max(X,axis=0)\n",
    "Y = Y/100"
   ]
  },
  {
   "cell_type": "code",
   "execution_count": 30,
   "id": "5216f15f",
   "metadata": {},
   "outputs": [],
   "source": [
    "class Neural_Network(object):\n",
    "    def __init__(self):\n",
    "        self.inputLayerSize  = 2\n",
    "        self.hiddenLayerSize = 3\n",
    "        self.outputLayerSize = 1\n",
    "        self.w1              = np.random.randn(self.inputLayerSize,self.hiddenLayerSize)\n",
    "        self.w2              = np.random.randn(self.hiddenLayerSize,self.outputLayerSize)\n",
    "        \n",
    "    def forward(self,X):\n",
    "        self.z2   = np.dot(X,self.w1)\n",
    "        self.a2   = self.sigmoid(self.z2)\n",
    "        self.z3   = np.dot(self.a2,self.w2)\n",
    "        yHat      = self.sigmoid(self.z3)\n",
    "        return yHat\n",
    "    \n",
    "    def cost(self,x,y):\n",
    "        return (0.5)*sum((y-self.forward(x))**2)\n",
    "    \n",
    "    def costPrime(self,x,y):\n",
    "        self.yHat = self.forward(x)\n",
    "        \n",
    "        self.delta3 = np.multiply(-(y-self.yHat),self.sigmoidPrime(self.z3))\n",
    "        djdw2     = np.dot(self.a2.T,self.delta3)\n",
    "        \n",
    "        self.delta2 = np.multiply(self.delta3,self.w2.T)*self.sigmoidPrime(self.z3)\n",
    "        djdw1  = np.dot(x.T,self.delta2)\n",
    "        \n",
    "        return djdw1,djdw2\n",
    "        \n",
    "    def sigmoid(self,z):\n",
    "        return 1/(1+np.exp(-z))\n",
    "    \n",
    "    def sigmoidPrime(self,z):\n",
    "        return (np.exp(-z))/((1+np.exp(-z))**2)"
   ]
  },
  {
   "cell_type": "code",
   "execution_count": 51,
   "id": "dd356722",
   "metadata": {},
   "outputs": [
    {
     "data": {
      "text/plain": [
       "array([[0.86367853],\n",
       "       [0.90376616],\n",
       "       [0.91991849]])"
      ]
     },
     "execution_count": 51,
     "metadata": {},
     "output_type": "execute_result"
    }
   ],
   "source": [
    "NN = Neural_Network()\n",
    "NN.forward(X)"
   ]
  },
  {
   "cell_type": "code",
   "execution_count": 32,
   "id": "f8ca85b8",
   "metadata": {},
   "outputs": [],
   "source": [
    "djdw1,djdw2 = NN.costPrime(X,Y)"
   ]
  },
  {
   "cell_type": "code",
   "execution_count": 33,
   "id": "cb04e2b7",
   "metadata": {},
   "outputs": [],
   "source": [
    "cost1 = NN.cost(X,Y)"
   ]
  },
  {
   "cell_type": "code",
   "execution_count": 48,
   "id": "55c85c1c",
   "metadata": {},
   "outputs": [],
   "source": [
    "NN.w1 -= 15*djdw1\n",
    "NN.w2 -= 15*djdw2\n",
    "cost2 = NN.cost(X,Y)"
   ]
  },
  {
   "cell_type": "code",
   "execution_count": 49,
   "id": "fa1e6c44",
   "metadata": {},
   "outputs": [
    {
     "name": "stdout",
     "output_type": "stream",
     "text": [
      "[0.16682995] [0.04407088]\n"
     ]
    }
   ],
   "source": [
    "print(cost1,cost2)"
   ]
  },
  {
   "cell_type": "code",
   "execution_count": 50,
   "id": "088d746d",
   "metadata": {},
   "outputs": [
    {
     "name": "stdout",
     "output_type": "stream",
     "text": [
      "[[0.75]\n",
      " [0.82]\n",
      " [0.93]]\n"
     ]
    }
   ],
   "source": [
    "print(Y)"
   ]
  },
  {
   "cell_type": "code",
   "execution_count": null,
   "id": "802ba940",
   "metadata": {},
   "outputs": [],
   "source": []
  }
 ],
 "metadata": {
  "kernelspec": {
   "display_name": "Python 3 (ipykernel)",
   "language": "python",
   "name": "python3"
  },
  "language_info": {
   "codemirror_mode": {
    "name": "ipython",
    "version": 3
   },
   "file_extension": ".py",
   "mimetype": "text/x-python",
   "name": "python",
   "nbconvert_exporter": "python",
   "pygments_lexer": "ipython3",
   "version": "3.9.12"
  }
 },
 "nbformat": 4,
 "nbformat_minor": 5
}
